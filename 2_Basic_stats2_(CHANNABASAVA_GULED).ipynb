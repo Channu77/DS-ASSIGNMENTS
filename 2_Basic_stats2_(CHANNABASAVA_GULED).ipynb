{
  "nbformat": 4,
  "nbformat_minor": 0,
  "metadata": {
    "colab": {
      "provenance": []
    },
    "kernelspec": {
      "name": "python3",
      "display_name": "Python 3"
    },
    "language_info": {
      "name": "python"
    }
  },
  "cells": [
    {
      "cell_type": "markdown",
      "source": [
        "# Estimation And Confidence Intervals"
      ],
      "metadata": {
        "id": "iXalovD_lrHl"
      }
    },
    {
      "cell_type": "code",
      "execution_count": null,
      "metadata": {
        "colab": {
          "base_uri": "https://localhost:8080/"
        },
        "id": "WYyexwfdkCXW",
        "outputId": "976aaad4-7aca-483e-b8d6-202cd66f8dac"
      },
      "outputs": [
        {
          "output_type": "stream",
          "name": "stdout",
          "text": [
            "multiline\n"
          ]
        }
      ],
      "source": [
        "long_string_multiline=\"\"\"multiline\"\"\"\n",
        "print(long_string_multiline)"
      ]
    },
    {
      "cell_type": "markdown",
      "source": [
        "# a. Build 99% Confidence Interval Using Sample Standard Deviation"
      ],
      "metadata": {
        "id": "whJHdUjGmGQP"
      }
    },
    {
      "cell_type": "code",
      "source": [
        "!pip install numpy"
      ],
      "metadata": {
        "colab": {
          "base_uri": "https://localhost:8080/"
        },
        "id": "jlUIdHavk0-J",
        "outputId": "a7be6400-a287-4f35-980c-c97fb2fda1d8"
      },
      "execution_count": null,
      "outputs": [
        {
          "output_type": "stream",
          "name": "stdout",
          "text": [
            "Requirement already satisfied: numpy in /usr/local/lib/python3.10/dist-packages (1.26.4)\n"
          ]
        }
      ]
    },
    {
      "cell_type": "code",
      "source": [
        "!pip install scipy"
      ],
      "metadata": {
        "colab": {
          "base_uri": "https://localhost:8080/"
        },
        "id": "9Nj9dhecmPZv",
        "outputId": "c11173b1-7a20-42df-9873-9bc216467b8d"
      },
      "execution_count": null,
      "outputs": [
        {
          "output_type": "stream",
          "name": "stdout",
          "text": [
            "Requirement already satisfied: scipy in /usr/local/lib/python3.10/dist-packages (1.13.1)\n",
            "Requirement already satisfied: numpy<2.3,>=1.22.4 in /usr/local/lib/python3.10/dist-packages (from scipy) (1.26.4)\n"
          ]
        }
      ]
    },
    {
      "cell_type": "code",
      "source": [
        "!pip install pandas"
      ],
      "metadata": {
        "colab": {
          "base_uri": "https://localhost:8080/"
        },
        "id": "kcLnPKLbmYMu",
        "outputId": "252349e9-c7ef-4238-ff6f-552349d4ba08"
      },
      "execution_count": null,
      "outputs": [
        {
          "output_type": "stream",
          "name": "stdout",
          "text": [
            "Requirement already satisfied: pandas in /usr/local/lib/python3.10/dist-packages (2.1.4)\n",
            "Requirement already satisfied: numpy<2,>=1.22.4 in /usr/local/lib/python3.10/dist-packages (from pandas) (1.26.4)\n",
            "Requirement already satisfied: python-dateutil>=2.8.2 in /usr/local/lib/python3.10/dist-packages (from pandas) (2.8.2)\n",
            "Requirement already satisfied: pytz>=2020.1 in /usr/local/lib/python3.10/dist-packages (from pandas) (2024.1)\n",
            "Requirement already satisfied: tzdata>=2022.1 in /usr/local/lib/python3.10/dist-packages (from pandas) (2024.1)\n",
            "Requirement already satisfied: six>=1.5 in /usr/local/lib/python3.10/dist-packages (from python-dateutil>=2.8.2->pandas) (1.16.0)\n"
          ]
        }
      ]
    },
    {
      "cell_type": "code",
      "source": [
        "import numpy as np\n",
        "import pandas as pd\n",
        "import scipy.stats as stats\n",
        "import math\n",
        "import random"
      ],
      "metadata": {
        "id": "IYckWSkDmcPC"
      },
      "execution_count": null,
      "outputs": []
    },
    {
      "cell_type": "markdown",
      "source": [
        "#Data\n",
        "A total of 15 print-heads were randomly selected and tested until failure. The durability of each print-head (in millions of characters) was recorded as follows:\n"
      ],
      "metadata": {
        "id": "eRyKBTihnL_z"
      }
    },
    {
      "cell_type": "code",
      "source": [
        "ph = (1.13, 1.55, 1.43, 0.92, 1.25, 1.36, 1.32, 0.85, 1.07, 1.48, 1.20, 1.33, 1.18, 1.22, 1.29)\n",
        "n=15"
      ],
      "metadata": {
        "id": "xwa08XAJmv-S"
      },
      "execution_count": null,
      "outputs": []
    },
    {
      "cell_type": "code",
      "source": [
        "ph1 = pd.DataFrame(ph)\n",
        "print(ph1)"
      ],
      "metadata": {
        "colab": {
          "base_uri": "https://localhost:8080/"
        },
        "id": "YaH2jwPPnAhl",
        "outputId": "c462f4fb-ec9d-4d66-d97c-fcf3cbce3a4d"
      },
      "execution_count": null,
      "outputs": [
        {
          "output_type": "stream",
          "name": "stdout",
          "text": [
            "       0\n",
            "0   1.13\n",
            "1   1.55\n",
            "2   1.43\n",
            "3   0.92\n",
            "4   1.25\n",
            "5   1.36\n",
            "6   1.32\n",
            "7   0.85\n",
            "8   1.07\n",
            "9   1.48\n",
            "10  1.20\n",
            "11  1.33\n",
            "12  1.18\n",
            "13  1.22\n",
            "14  1.29\n"
          ]
        }
      ]
    },
    {
      "cell_type": "markdown",
      "source": [
        "1) finding mean of the print-head\n",
        "\n",
        "\n"
      ],
      "metadata": {
        "id": "62ZmPJe6nn1y"
      }
    },
    {
      "cell_type": "code",
      "source": [
        "mu=ph1.mean()\n",
        "print(mu)"
      ],
      "metadata": {
        "colab": {
          "base_uri": "https://localhost:8080/"
        },
        "id": "NQ5dPlW6nXU7",
        "outputId": "9d0e9e77-9f4c-4eb7-e9d3-4e86fb481a71"
      },
      "execution_count": null,
      "outputs": [
        {
          "output_type": "stream",
          "name": "stdout",
          "text": [
            "0    1.238667\n",
            "dtype: float64\n"
          ]
        }
      ]
    },
    {
      "cell_type": "markdown",
      "source": [
        "2) finding standard deviation of print head"
      ],
      "metadata": {
        "id": "xtNATmlKn8z0"
      }
    },
    {
      "cell_type": "code",
      "source": [
        "samp_std=np.std(ph1)\n",
        "print(samp_std)"
      ],
      "metadata": {
        "colab": {
          "base_uri": "https://localhost:8080/"
        },
        "id": "K2Uzn26yoRpF",
        "outputId": "5caaa4b5-9e5f-4a98-9e7d-c295eae7efcc"
      },
      "execution_count": null,
      "outputs": [
        {
          "output_type": "stream",
          "name": "stdout",
          "text": [
            "0    0.186614\n",
            "dtype: float64\n"
          ]
        },
        {
          "output_type": "stream",
          "name": "stderr",
          "text": [
            "/usr/local/lib/python3.10/dist-packages/numpy/core/fromnumeric.py:3643: FutureWarning: The behavior of DataFrame.std with axis=None is deprecated, in a future version this will reduce over both axes and return a scalar. To retain the old behavior, pass axis=0 (or do not pass axis)\n",
            "  return std(axis=axis, dtype=dtype, out=out, ddof=ddof, **kwargs)\n"
          ]
        }
      ]
    },
    {
      "cell_type": "markdown",
      "source": [
        "we have 15 samples (if we have <30 data samples then we do t-test) for that\n",
        "\n",
        "mean of the sample data is 1.238667\n",
        "\n",
        "the sample std is 0.186614\n",
        "\n",
        "99% is confidence_interval and significance value is 0.01(one tail),\n",
        "\n",
        "digree of freedom is 14(15-1),\n",
        "\n",
        "decission boundry from t-table is 2.624"
      ],
      "metadata": {
        "id": "xdnK3UHLp4fS"
      }
    },
    {
      "cell_type": "markdown",
      "source": [
        "![image.png](data:image/png;base64,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)"
      ],
      "metadata": {
        "id": "VbxyBzoLqeF0"
      }
    },
    {
      "cell_type": "code",
      "source": [
        "t_value = 2.624"
      ],
      "metadata": {
        "id": "NhLndnFXqssZ"
      },
      "execution_count": null,
      "outputs": []
    },
    {
      "cell_type": "code",
      "source": [
        "margine_of_error_sample = t_value * (samp_std / np.sqrt(n))\n",
        "print(margine_of_error_sample)"
      ],
      "metadata": {
        "colab": {
          "base_uri": "https://localhost:8080/"
        },
        "id": "9Xul1eKpqxMl",
        "outputId": "adaf0d91-3aa5-45fe-caca-ebbaf2b8655b"
      },
      "execution_count": null,
      "outputs": [
        {
          "output_type": "stream",
          "name": "stdout",
          "text": [
            "0    0.126434\n",
            "dtype: float64\n"
          ]
        }
      ]
    },
    {
      "cell_type": "code",
      "source": [
        "ci_lower_a = mu - margine_of_error_sample\n",
        "ci_upper_a = mu + margine_of_error_sample\n",
        "print(\"lower confidence interval\",ci_lower_a)\n",
        "print(\"higher confidence interval\",ci_upper_a)"
      ],
      "metadata": {
        "colab": {
          "base_uri": "https://localhost:8080/"
        },
        "id": "z3mc5suZrWZO",
        "outputId": "22ade0fc-e991-4d04-88c6-7a91d87413c3"
      },
      "execution_count": null,
      "outputs": [
        {
          "output_type": "stream",
          "name": "stdout",
          "text": [
            "lower confidence interval 0    1.112233\n",
            "dtype: float64\n",
            "higher confidence interval 0    1.3651\n",
            "dtype: float64\n"
          ]
        }
      ]
    },
    {
      "cell_type": "markdown",
      "source": [
        "# b. Build 99% Confidence Interval Using Known Population Standard Deviation"
      ],
      "metadata": {
        "id": "pGkftXGJtfEk"
      }
    },
    {
      "cell_type": "code",
      "source": [
        "data = [1.13, 1.55, 1.43, 0.92, 1.25, 1.36, 1.32, 0.85, 1.07, 1.48, 1.20, 1.33, 1.18, 1.22, 1.29]\n",
        "data=pd.DataFrame(data)\n",
        "data.mean(),data.std()"
      ],
      "metadata": {
        "colab": {
          "base_uri": "https://localhost:8080/"
        },
        "id": "BWToIZFzs71m",
        "outputId": "cdc7d352-18e9-4893-d89c-7db0565b2885"
      },
      "execution_count": null,
      "outputs": [
        {
          "output_type": "execute_result",
          "data": {
            "text/plain": [
              "(0    1.238667\n",
              " dtype: float64,\n",
              " 0    0.193164\n",
              " dtype: float64)"
            ]
          },
          "metadata": {},
          "execution_count": 23
        }
      ]
    },
    {
      "cell_type": "code",
      "source": [
        "sample_mean = np.mean(data)\n",
        "n = 15\n",
        "population_std = 0.2"
      ],
      "metadata": {
        "id": "L3aA-26Auey9"
      },
      "execution_count": null,
      "outputs": []
    },
    {
      "cell_type": "code",
      "source": [
        "z_value = stats.norm.ppf(1 - 0.005)\n",
        "margine_of_error_known = z_value * (population_std / np.sqrt(n))"
      ],
      "metadata": {
        "id": "10QpF6u4uuee"
      },
      "execution_count": null,
      "outputs": []
    },
    {
      "cell_type": "code",
      "source": [
        "ci_lower_b = sample_mean - margine_of_error_sample\n",
        "ci_upper_b = sample_mean + margine_of_error_sample"
      ],
      "metadata": {
        "id": "GCsDcumGuubN"
      },
      "execution_count": null,
      "outputs": []
    },
    {
      "cell_type": "code",
      "source": [
        "print(\"Sample Mean:\", sample_mean)\n",
        "print(\"Population Standard Deviation:\", population_std)\n",
        "print(\"z-value for 99% CI:\", z_value)\n",
        "print(\"99% CI using Known Population Standard Deviation\")"
      ],
      "metadata": {
        "colab": {
          "base_uri": "https://localhost:8080/"
        },
        "id": "Z4bGWVv1uuZD",
        "outputId": "0e4aee84-90d5-4586-c136-6d63cbf3457a"
      },
      "execution_count": null,
      "outputs": [
        {
          "output_type": "stream",
          "name": "stdout",
          "text": [
            "Sample Mean: 1.2386666666666666\n",
            "Population Standard Deviation: 0.2\n",
            "z-value for 99% CI: 2.5758293035489004\n",
            "99% CI using Known Population Standard Deviation\n"
          ]
        }
      ]
    },
    {
      "cell_type": "code",
      "source": [
        "kp=np.random.normal(1.2386,0.2,15)\n",
        "kp1=pd.DataFrame(kp,columns=['kp'])\n",
        "print(kp1)\n",
        "mean=kp1['kp'].mean()\n",
        "std=0.2\n",
        "stderr=std/math.sqrt(len(kp1['kp']))\n",
        "ci_99=st.norm.interval(0.99,mean,stderr)\n",
        "print('99% confidence interval:',ci_99)"
      ],
      "metadata": {
        "colab": {
          "base_uri": "https://localhost:8080/",
          "height": 471
        },
        "id": "rabkYv_t0fSm",
        "outputId": "5001811f-ae8c-432c-d010-76e0b718e7de"
      },
      "execution_count": null,
      "outputs": [
        {
          "output_type": "stream",
          "name": "stdout",
          "text": [
            "          kp\n",
            "0   1.318335\n",
            "1   1.340528\n",
            "2   1.261482\n",
            "3   1.259632\n",
            "4   1.441070\n",
            "5   1.108236\n",
            "6   1.452601\n",
            "7   1.390019\n",
            "8   1.405899\n",
            "9   1.449726\n",
            "10  1.251158\n",
            "11  1.270260\n",
            "12  1.351153\n",
            "13  1.506643\n",
            "14  1.154874\n"
          ]
        },
        {
          "output_type": "error",
          "ename": "NameError",
          "evalue": "name 'st' is not defined",
          "traceback": [
            "\u001b[0;31m---------------------------------------------------------------------------\u001b[0m",
            "\u001b[0;31mNameError\u001b[0m                                 Traceback (most recent call last)",
            "\u001b[0;32m<ipython-input-26-4ba947046057>\u001b[0m in \u001b[0;36m<cell line: 7>\u001b[0;34m()\u001b[0m\n\u001b[1;32m      5\u001b[0m \u001b[0mstd\u001b[0m\u001b[0;34m=\u001b[0m\u001b[0;36m0.2\u001b[0m\u001b[0;34m\u001b[0m\u001b[0;34m\u001b[0m\u001b[0m\n\u001b[1;32m      6\u001b[0m \u001b[0mstderr\u001b[0m\u001b[0;34m=\u001b[0m\u001b[0mstd\u001b[0m\u001b[0;34m/\u001b[0m\u001b[0mmath\u001b[0m\u001b[0;34m.\u001b[0m\u001b[0msqrt\u001b[0m\u001b[0;34m(\u001b[0m\u001b[0mlen\u001b[0m\u001b[0;34m(\u001b[0m\u001b[0mkp1\u001b[0m\u001b[0;34m[\u001b[0m\u001b[0;34m'kp'\u001b[0m\u001b[0;34m]\u001b[0m\u001b[0;34m)\u001b[0m\u001b[0;34m)\u001b[0m\u001b[0;34m\u001b[0m\u001b[0;34m\u001b[0m\u001b[0m\n\u001b[0;32m----> 7\u001b[0;31m \u001b[0mci_99\u001b[0m\u001b[0;34m=\u001b[0m\u001b[0mst\u001b[0m\u001b[0;34m.\u001b[0m\u001b[0mnorm\u001b[0m\u001b[0;34m.\u001b[0m\u001b[0minterval\u001b[0m\u001b[0;34m(\u001b[0m\u001b[0;36m0.99\u001b[0m\u001b[0;34m,\u001b[0m\u001b[0mmean\u001b[0m\u001b[0;34m,\u001b[0m\u001b[0mstderr\u001b[0m\u001b[0;34m)\u001b[0m\u001b[0;34m\u001b[0m\u001b[0;34m\u001b[0m\u001b[0m\n\u001b[0m\u001b[1;32m      8\u001b[0m \u001b[0mprint\u001b[0m\u001b[0;34m(\u001b[0m\u001b[0;34m'99% confidence interval:'\u001b[0m\u001b[0;34m,\u001b[0m\u001b[0mci_99\u001b[0m\u001b[0;34m)\u001b[0m\u001b[0;34m\u001b[0m\u001b[0;34m\u001b[0m\u001b[0m\n",
            "\u001b[0;31mNameError\u001b[0m: name 'st' is not defined"
          ]
        }
      ]
    }
  ]
}